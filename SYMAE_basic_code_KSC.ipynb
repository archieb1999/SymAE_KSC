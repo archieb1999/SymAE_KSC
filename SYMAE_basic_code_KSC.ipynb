{
 "cells": [
  {
   "cell_type": "code",
   "execution_count": null,
   "id": "25987c72-77f1-47c0-9484-3e91558cbab2",
   "metadata": {},
   "outputs": [],
   "source": [
    "using Flux, Statistics, Plots, StatsBase, MAT, LinearAlgebra, CUDA, ProgressMeter, Random, MultivariateStats, MLUtils"
   ]
  },
  {
   "cell_type": "code",
   "execution_count": null,
   "id": "4f651af5-f611-4f09-819f-337cb0ebc4ae",
   "metadata": {},
   "outputs": [],
   "source": [
    "CUDA.device!(1)"
   ]
  },
  {
   "cell_type": "code",
   "execution_count": null,
   "id": "072dbd8e-b324-43a0-b51f-522786e93fea",
   "metadata": {},
   "outputs": [],
   "source": [
    "gt = matread(\"HSI/KSC/KSC_gt.mat\")[\"KSC_gt\"];           #loading ground truth coordinates, enter location according to your computer"
   ]
  },
  {
   "cell_type": "code",
   "execution_count": null,
   "id": "d732810c-8c51-4596-803c-99d67e571ed4",
   "metadata": {},
   "outputs": [],
   "source": [
    "indexData = Dict();"
   ]
  },
  {
   "cell_type": "code",
   "execution_count": null,
   "id": "0bef3ec1-d8d2-4a4d-adc5-39adec0741fc",
   "metadata": {},
   "outputs": [],
   "source": [
    "for i in 1:13\n",
    "    indexData[i] = findall(x->x==i,gt)\n",
    "end"
   ]
  },
  {
   "cell_type": "code",
   "execution_count": null,
   "id": "4485ddb2-b0f6-42e9-957c-de149f9b4446",
   "metadata": {},
   "outputs": [],
   "source": [
    "for i in 1:13\n",
    "    indexData[i] = indexData[i][shuffle(1:length(indexData[i]))]\n",
    "end"
   ]
  },
  {
   "cell_type": "code",
   "execution_count": null,
   "id": "956405ba-3504-4f1b-afc6-b9f4a8fdda3d",
   "metadata": {},
   "outputs": [],
   "source": [
    "alldata = matread(\"HSI/KSC/KSC.mat\")[\"KSC\"]./500; #loading and normalizing the hyperspectral image, 500 was randomly chosen as threshold to discard pixels with unnaturally high values/data artifects, see later"
   ]
  },
  {
   "cell_type": "code",
   "execution_count": null,
   "id": "d9dd0239-7f12-4589-bb6e-03bc718f0807",
   "metadata": {},
   "outputs": [],
   "source": [
    "bpx = Dict() #for storing coordinates of bad pixels we discard before training\n",
    "gpx = Dict() #for storing coordinates of good pixels we use for training"
   ]
  },
  {
   "cell_type": "code",
   "execution_count": null,
   "id": "452a2f15-47b4-4874-8ff8-1dea441d27d8",
   "metadata": {},
   "outputs": [],
   "source": [
    "for i in 1:13\n",
    "    bpx[i]=[]\n",
    "    gpx[i]=[]\n",
    "end"
   ]
  },
  {
   "cell_type": "code",
   "execution_count": null,
   "id": "8c7d68ec-0598-4ca4-aabd-4e9abe671539",
   "metadata": {},
   "outputs": [],
   "source": [
    "for i in 1:13\n",
    "    for j in 1:length(indexData[i])\n",
    "        if (maximum(alldata[indexData[i][j][1],indexData[i][j][2],:])>=1)   #using threshold to separate bad pixels\n",
    "            push!(bpx[i],(indexData[i][j][1],indexData[i][j][2]))\n",
    "        else\n",
    "            push!(gpx[i],(indexData[i][j][1],indexData[i][j][2]))\n",
    "        end\n",
    "    end\n",
    "end"
   ]
  },
  {
   "cell_type": "code",
   "execution_count": null,
   "id": "3d4701d2-a462-4c53-8a4a-f04345d8f196",
   "metadata": {},
   "outputs": [],
   "source": [
    "trainindex = [gpx[i] for i in 1:13]"
   ]
  },
  {
   "cell_type": "code",
   "execution_count": null,
   "id": "18199898-b598-4ed9-9402-cb5f53f86f2e",
   "metadata": {},
   "outputs": [],
   "source": [
    "testindex = []\n",
    "for i in 1:13\n",
    "    m = floor(Int,size(trainindex[i])[1]*0.1)               #separating data into 1:9 train-test split\n",
    "    push!(testindex,trainindex[i][1:end-m])\n",
    "    trainindex[i]= trainindex[i][end-m+1:end]\n",
    "end"
   ]
  },
  {
   "cell_type": "code",
   "execution_count": null,
   "id": "ebde7ec5-1f2d-4697-90c1-c16f3a0eb6a4",
   "metadata": {},
   "outputs": [],
   "source": [
    "trainvector=[Array{Float64}(undef,176,length(trainindex[i])) for i in 1:13]"
   ]
  },
  {
   "cell_type": "code",
   "execution_count": null,
   "id": "219befd3-734b-45ae-af37-c937fc8e3587",
   "metadata": {},
   "outputs": [],
   "source": [
    "for i in 1:13\n",
    "    for j in 1:length(trainindex[i])\n",
    "        trainvector[i][:,j]=alldata[trainindex[i][j][1],trainindex[i][j][2],:]\n",
    "    end\n",
    "end"
   ]
  },
  {
   "cell_type": "code",
   "execution_count": null,
   "id": "ae684b80-f5a3-4d2d-beb4-f1ed034a90d2",
   "metadata": {},
   "outputs": [],
   "source": [
    "testvector=[Array{Float64}(undef,176,length(testindex[i])) for i in 1:13]"
   ]
  },
  {
   "cell_type": "code",
   "execution_count": null,
   "id": "d19e691b-9de6-4501-93fe-9e1035290340",
   "metadata": {},
   "outputs": [],
   "source": [
    "for i in 1:13\n",
    "    for j in 1:length(testindex[i])\n",
    "        testvector[i][:,j]=alldata[testindex[i][j][1],testindex[i][j][2],:]\n",
    "    end\n",
    "end"
   ]
  },
  {
   "cell_type": "code",
   "execution_count": null,
   "id": "ca0f0f46-c28f-467c-bac6-e1b1aa95ead8",
   "metadata": {},
   "outputs": [],
   "source": []
  },
  {
   "cell_type": "code",
   "execution_count": null,
   "id": "ab59c74d-0535-446b-b20c-323e40c57d71",
   "metadata": {},
   "outputs": [],
   "source": []
  },
  {
   "cell_type": "code",
   "execution_count": null,
   "id": "d650cc36-882e-4ade-b925-a8c3327e904b",
   "metadata": {},
   "outputs": [],
   "source": []
  },
  {
   "cell_type": "markdown",
   "id": "cbb5f936-d797-4039-9280-054e8ff3dc19",
   "metadata": {
    "tags": []
   },
   "source": [
    "# SymAE's code:"
   ]
  },
  {
   "cell_type": "code",
   "execution_count": null,
   "id": "83259add-1649-4bd0-beaa-dbc39c8f9531",
   "metadata": {},
   "outputs": [],
   "source": [
    "function Split(x::AbstractArray)                            #We'll use these functions in the architecture\n",
    "    reshape(x, (div(size(x)[1], nτ),nτ,size(x)[2]))\n",
    "end\n",
    "\n",
    "function UnSplit(x::AbstractArray)\n",
    "    reshape(x,(176*nτ,:))                       #176 is number of spectral bands in KSC scene\n",
    "end"
   ]
  },
  {
   "cell_type": "code",
   "execution_count": null,
   "id": "72e50292-2264-4403-8eba-5edfe15e125a",
   "metadata": {},
   "outputs": [],
   "source": [
    "nc = 64             # reflectance code dimension\n",
    "nd = 64             # nuisance code dimension\n",
    "nτ = 8              # number of pixels in a datapoint"
   ]
  },
  {
   "cell_type": "code",
   "execution_count": null,
   "id": "b82fe6a3-91be-4360-b543-899042a79b3f",
   "metadata": {},
   "outputs": [],
   "source": [
    "Dr1 = Dropout(0.25)\n",
    "Dr2 = Dropout(0.5)\n",
    "renc = Chain(Dense(176,300,x->leakyrelu(x,0.5)),Dense(300,300,x->leakyrelu(x,0.5)),Dense(300,300,x->leakyrelu(x,0.5)),Dense(300,150,x->leakyrelu(x,0.5)),Dense(150,nc,x->leakyrelu(x,0.5))) |> gpu\n",
    "nenc = Chain(Dense(176,300,x->leakyrelu(x,0.5)),Dr1,Dense(300,300,x->leakyrelu(x,0.5)),Dense(300,300,x->leakyrelu(x,0.5)),Dr1,Dense(300,150,x->leakyrelu(x,0.5)),Dense(150,nd,x->leakyrelu(x,0.5))) |>gpu\n",
    "dec = Chain(Dense(nc+nd,150,x->leakyrelu(x,0.5)),Dense(150,300,x->leakyrelu(x,0.5)),Dense(300,300,x->leakyrelu(x,0.5)),Dense(300,300,x->leakyrelu(x,0.5)),Dense(300,300,x->leakyrelu(x,0.5)),Dense(300,300,x->leakyrelu(x,0.5)),Dense(300,176)) |>gpu\n",
    "SYMAE = Chain(Parallel((x,y)->cat(x,y,dims=1),Chain(x->Split(x),renc,x->mean(x,dims=2),x->fill(x,nτ),x->cat(x...,dims=2)),Chain(x->Split(x),nenc,Dr2)),dec,x->UnSplit(x)) |> gpu\n"
   ]
  },
  {
   "cell_type": "code",
   "execution_count": null,
   "id": "791f86fc-9e38-42da-bf98-d12203908edd",
   "metadata": {},
   "outputs": [],
   "source": [
    "L(x) = Flux.Losses.mse(SYMAE(x),x) |>gpu\n",
    "ps = Flux.params(SYMAE) |>gpu\n",
    "opt = ADAM(0.0001) |>gpu"
   ]
  },
  {
   "cell_type": "code",
   "execution_count": null,
   "id": "0a677be5-2cd1-47a2-9f20-fd21c7d48aa9",
   "metadata": {},
   "outputs": [],
   "source": [
    "###############################################################\n",
    "\n",
    "function generate_samples(dvec, n=1000, ntau=nτ)                          #function to generate random datapoints and batch them for training\n",
    "    data=[]\n",
    "    for i in 1:n\n",
    "        push!(data,Flux.batch([vec(randobs(randobs(dvec), ntau)) for i = 1:16*2*8]))\n",
    "    end\n",
    "    return gpu(data)\n",
    "end\n",
    "\n",
    "################################################################"
   ]
  },
  {
   "cell_type": "code",
   "execution_count": null,
   "id": "588df57c-0db0-43ec-9550-f9417faeab44",
   "metadata": {},
   "outputs": [],
   "source": [
    "trainloss_store=[]"
   ]
  },
  {
   "cell_type": "code",
   "execution_count": null,
   "id": "4f94509b-678d-4a9e-bb50-ec863698acbc",
   "metadata": {},
   "outputs": [],
   "source": [
    "dtrain = generate_samples(trainvector,2*1024);  #storing data for training"
   ]
  },
  {
   "cell_type": "code",
   "execution_count": null,
   "id": "d7df101d-30a0-42e1-bb77-53a75402e973",
   "metadata": {},
   "outputs": [],
   "source": [
    "@time tr0 = mean(Flux.Losses.mse.(SYMAE.(dtrain),dtrain)) #initial train loss"
   ]
  },
  {
   "cell_type": "code",
   "execution_count": null,
   "id": "013796b8-286b-4afe-963c-2b20336add61",
   "metadata": {},
   "outputs": [],
   "source": []
  },
  {
   "cell_type": "code",
   "execution_count": null,
   "id": "325b9c26-4f6c-4302-9cce-b5f5e4169260",
   "metadata": {},
   "outputs": [],
   "source": []
  },
  {
   "cell_type": "code",
   "execution_count": null,
   "id": "e18ae8c8-2809-4b7f-9087-fb4b92cc1b6e",
   "metadata": {},
   "outputs": [],
   "source": []
  },
  {
   "cell_type": "code",
   "execution_count": null,
   "id": "6fd52633-18ca-4a9e-9ea7-d9a95577e4aa",
   "metadata": {},
   "outputs": [],
   "source": [
    "nepoch=1000\n",
    "ProgressMeter.ijulia_behavior(:clear)\n",
    "p=Progress(nepoch)\n",
    "for epoch in 1:nepoch\n",
    "    for x in dtrain\n",
    "        # x, y = gpu(x), gpu(y) # transfer data to device\n",
    "        gs = gradient(() -> Flux.mse(SYMAE(x), x), ps) # compute gradient\n",
    "        Flux.Optimise.update!(opt, ps, gs) # update parameters\n",
    "    end\n",
    "    train_loss=mean(Flux.Losses.mse.(SYMAE.(dtrain),dtrain))\n",
    "    push!(trainloss_store, train_loss)\n",
    "    ProgressMeter.next!(p; showvalues = [(:epoch,epoch),(:train_loss,train_loss)])\n",
    "end"
   ]
  },
  {
   "cell_type": "code",
   "execution_count": null,
   "id": "5df90fb7-0b00-447c-a945-9a333c336b90",
   "metadata": {},
   "outputs": [],
   "source": []
  },
  {
   "cell_type": "code",
   "execution_count": null,
   "id": "a03bc0fa-862f-4ec3-b107-eb6192791c2a",
   "metadata": {},
   "outputs": [],
   "source": [
    "plot(1:length(trainloss_store),trainloss_store,label = false)"
   ]
  },
  {
   "cell_type": "code",
   "execution_count": null,
   "id": "c3e3718c-9f97-473a-8365-fcf5f41a1176",
   "metadata": {},
   "outputs": [],
   "source": []
  },
  {
   "cell_type": "code",
   "execution_count": null,
   "id": "91a6a4d3-9f61-4697-bc79-028629af4e93",
   "metadata": {},
   "outputs": [],
   "source": [
    "renc = SYMAE[1][1][2];"
   ]
  },
  {
   "cell_type": "code",
   "execution_count": null,
   "id": "bc11836c-d04f-4558-bcec-bec2e08dee7a",
   "metadata": {},
   "outputs": [],
   "source": [
    "nenc = SYMAE[1][2][2];"
   ]
  },
  {
   "cell_type": "code",
   "execution_count": null,
   "id": "bb399f07-2e0b-4012-bf0e-dd1f1c63a6a3",
   "metadata": {},
   "outputs": [],
   "source": [
    "dec = SYMAE[2];"
   ]
  },
  {
   "cell_type": "code",
   "execution_count": null,
   "id": "6b5fc02b-fa17-4e16-85ff-a4daa93df728",
   "metadata": {},
   "outputs": [],
   "source": []
  },
  {
   "cell_type": "code",
   "execution_count": null,
   "id": "8363b6a1-5e27-4dd0-9f1c-38475b4051c6",
   "metadata": {},
   "outputs": [],
   "source": []
  },
  {
   "cell_type": "raw",
   "id": "392f6c87-70ce-46d1-9e2d-6daa333aefad",
   "metadata": {},
   "source": [
    "Demonstration of Redatuming:"
   ]
  },
  {
   "cell_type": "code",
   "execution_count": null,
   "id": "19d56c61-e820-468d-9581-b8621aeff211",
   "metadata": {},
   "outputs": [],
   "source": [
    "j = rand(collect(1:length(trainvector)))\n",
    "ab = randobs(trainvector1[j],10);\n",
    "nuis = nenc(gpu(ab[:,1]));\n",
    "coh = renc(gpu(ab));\n",
    "mmm=Flux.stack([[1.0] for i in 1:10],dims = 2);\n",
    "nnn=nuis*gpu(mmm);\n",
    "kkk =vcat(coh,nnn);\n",
    "lll = dec(kkk);\n",
    "p1 = plot(1:176,ab,title= \"Not-Redatumed\",label=false)\n",
    "p2 = plot(1:176,cpu(lll),title=\"Redatumed\",label=false)\n",
    "plot!(p1,p2,layout=(2,1))"
   ]
  },
  {
   "cell_type": "code",
   "execution_count": null,
   "id": "95bf64ec-9d72-4235-a4bc-7042f4db2887",
   "metadata": {},
   "outputs": [],
   "source": [
    "j = rand(collect(1:length(testvector)))\n",
    "ab = randobs(testvector1[j],10);\n",
    "nuis = nenc(gpu(ab[:,1]));\n",
    "coh = renc(gpu(ab));\n",
    "mmm=Flux.stack([[1.0] for i in 1:10],dims = 2);\n",
    "nnn=nuis*gpu(mmm);\n",
    "kkk =vcat(coh,nnn);\n",
    "lll = dec(kkk);\n",
    "p1 = plot(1:176,ab,title= \"Not-Redatumed\",label=false)\n",
    "p2 = plot(1:176,cpu(lll),title=\"Redatumed\",label=false)\n",
    "plot!(p1,p2,layout=(2,1))"
   ]
  },
  {
   "cell_type": "code",
   "execution_count": null,
   "id": "a55b4fe2-462c-45b0-bbd1-f6450de26704",
   "metadata": {},
   "outputs": [],
   "source": []
  },
  {
   "cell_type": "code",
   "execution_count": null,
   "id": "75771c98-bc13-42e0-8570-e0a37bd5be7b",
   "metadata": {},
   "outputs": [],
   "source": []
  },
  {
   "cell_type": "code",
   "execution_count": null,
   "id": "305b6151-86da-4d89-b3b3-229b13abf98a",
   "metadata": {},
   "outputs": [],
   "source": []
  },
  {
   "cell_type": "code",
   "execution_count": null,
   "id": "bd3d604c-6c98-4f40-b9d4-953cee4e15cb",
   "metadata": {},
   "outputs": [],
   "source": []
  },
  {
   "cell_type": "code",
   "execution_count": null,
   "id": "f3ec5fa0-127f-43cf-94a7-d476071b8697",
   "metadata": {},
   "outputs": [],
   "source": []
  },
  {
   "cell_type": "markdown",
   "id": "a27a8db2-03ae-4252-99c6-0480341100d8",
   "metadata": {
    "tags": []
   },
   "source": [
    "# The configuration of Feed Forward Network used for HSI classification:"
   ]
  },
  {
   "cell_type": "code",
   "execution_count": null,
   "id": "4986534e-9752-4725-82ce-755728586f19",
   "metadata": {},
   "outputs": [],
   "source": [
    "model = Chain(Dense(nc,8*128,leakyrelu),Dense(8*128,4*128,leakyrelu),Dropout(0.5),Dense(4*128,64,leakyrelu),Dense(64,13,identity),softmax) |> gpu\n",
    "L(x,y) = Flux.Losses.crossentropy(model(x),y)\n",
    "ps = Flux.params(model) |> gpu;\n",
    "opt = ADAM(0.0001)"
   ]
  }
 ],
 "metadata": {
  "kernelspec": {
   "display_name": "Julia 1.7.3",
   "language": "julia",
   "name": "julia-1.7"
  },
  "language_info": {
   "file_extension": ".jl",
   "mimetype": "application/julia",
   "name": "julia",
   "version": "1.7.3"
  }
 },
 "nbformat": 4,
 "nbformat_minor": 5
}
